{
 "cells": [
  {
   "cell_type": "code",
   "execution_count": 112,
   "metadata": {},
   "outputs": [],
   "source": [
    "#Jaydatt Patel 202201268"
   ]
  },
  {
   "cell_type": "code",
   "execution_count": 113,
   "metadata": {},
   "outputs": [],
   "source": [
    "import requests\n",
    "with open(\"hill_cipher_extra_credit.py\", 'w') as foo:\n",
    "    foo.write(requests.get(\"https://git.io/JenzP\").text)\n",
    "with open(\"hill_cipher_extra_credit_samples.py\", 'w') as foo:\n",
    "    foo.write(requests.get(\"https://git.io/JenzX\").text)\n",
    "from hill_cipher_extra_credit import *"
   ]
  },
  {
   "cell_type": "code",
   "execution_count": 114,
   "metadata": {},
   "outputs": [
    {
     "data": {
      "text/latex": [
       "$\\displaystyle \\left[ 1, \\  2, \\  3, \\  4, \\  5, \\  6\\right]$"
      ],
      "text/plain": [
       "[1, 2, 3, 4, 5, 6]"
      ]
     },
     "execution_count": 114,
     "metadata": {},
     "output_type": "execute_result"
    }
   ],
   "source": [
    "char2num(\"ABCDEF\")"
   ]
  },
  {
   "cell_type": "code",
   "execution_count": 115,
   "metadata": {},
   "outputs": [
    {
     "name": "stdout",
     "output_type": "stream",
     "text": [
      "  20   8   9  19   0   9  19   0   1   0  20   5  19  20 100  -1\n",
      "   T   H   I   S   _   I   S   _   A   _   T   E   S   T   #   #\n",
      "\n"
     ]
    }
   ],
   "source": [
    "mylist = [20,8,9,19,0,9,19,0,1,0,20,5,19,20, 100, -1]\n",
    "num2char(mylist)"
   ]
  },
  {
   "cell_type": "code",
   "execution_count": 116,
   "metadata": {},
   "outputs": [
    {
     "data": {
      "text/plain": [
       "'THIS_IS_A_TEST##'"
      ]
     },
     "execution_count": 116,
     "metadata": {},
     "output_type": "execute_result"
    }
   ],
   "source": [
    "mylist = [20,8,9,19,0,9,19,0,1,0,20,5,19,20, 100, -1]\n",
    "num2char_text_only(mylist)"
   ]
  },
  {
   "cell_type": "code",
   "execution_count": 117,
   "metadata": {},
   "outputs": [],
   "source": [
    "pnum = 202201268"
   ]
  },
  {
   "cell_type": "code",
   "execution_count": 118,
   "metadata": {},
   "outputs": [
    {
     "data": {
      "text/latex": [
       "$\\displaystyle \\left[ 194, \\  18, \\  243, \\  115, \\  15, \\  144, \\  245, \\  19, \\  309, \\  152, \\  10, \\  195, \\  150, \\  23, \\  183, \\  83, \\  4, \\  105, \\  42, \\  5, \\  54, \\  238, \\  19, \\  306, \\  177, \\  26, \\  219, \\  105, \\  14, \\  135, \\  294, \\  19, \\  378, \\  119, \\  5, \\  153, \\  235, \\  34, \\  294, \\  5, \\  1, \\  6, \\  195, \\  24, \\  243, \\  133, \\  19, \\  165\\right]$"
      ],
      "text/plain": [
       "[194, 18, 243, 115, 15, 144, 245, 19, 309, 152, 10, 195, 150, 23, 183, 83, 4, \n",
       "105, 42, 5, 54, 238, 19, 306, 177, 26, 219, 105, 14, 135, 294, 19, 378, 119, 5\n",
       ", 153, 235, 34, 294, 5, 1, 6, 195, 24, 243, 133, 19, 165]"
      ]
     },
     "execution_count": 118,
     "metadata": {},
     "output_type": "execute_result"
    }
   ],
   "source": [
    "cipher = cipher_generator(pnum)\n",
    "cipher"
   ]
  },
  {
   "cell_type": "code",
   "execution_count": 119,
   "metadata": {},
   "outputs": [
    {
     "data": {
      "text/latex": [
       "$\\displaystyle \\left[ 3, \\  15, \\  14, \\  6, \\  9, \\  4, \\  5, \\  14, \\  20, \\  9, \\  1, \\  12\\right]$"
      ],
      "text/plain": [
       "[3, 15, 14, 6, 9, 4, 5, 14, 20, 9, 1, 12]"
      ]
     },
     "execution_count": 119,
     "metadata": {},
     "output_type": "execute_result"
    }
   ],
   "source": [
    "partial_decryption = \"CONFIDENTIAL\"\n",
    "partial_num_d = char2num(partial_decryption)\n",
    "partial_num_d"
   ]
  },
  {
   "cell_type": "code",
   "execution_count": 120,
   "metadata": {},
   "outputs": [
    {
     "data": {
      "text/latex": [
       "$\\displaystyle \\left( \\left[\\begin{matrix}3\\\\15\\\\14\\end{matrix}\\right], \\  \\left[\\begin{matrix}6\\\\9\\\\4\\end{matrix}\\right], \\  \\left[\\begin{matrix}5\\\\14\\\\20\\end{matrix}\\right], \\  \\left[\\begin{matrix}9\\\\1\\\\12\\end{matrix}\\right]\\right)$"
      ],
      "text/plain": [
       "⎛⎡3 ⎤  ⎡6⎤  ⎡5 ⎤  ⎡9 ⎤⎞\n",
       "⎜⎢  ⎥  ⎢ ⎥  ⎢  ⎥  ⎢  ⎥⎟\n",
       "⎜⎢15⎥, ⎢9⎥, ⎢14⎥, ⎢1 ⎥⎟\n",
       "⎜⎢  ⎥  ⎢ ⎥  ⎢  ⎥  ⎢  ⎥⎟\n",
       "⎝⎣14⎦  ⎣4⎦  ⎣20⎦  ⎣12⎦⎠"
      ]
     },
     "execution_count": 120,
     "metadata": {},
     "output_type": "execute_result"
    }
   ],
   "source": [
    "v01 = Matrix(partial_num_d[:3])\n",
    "v02 = Matrix(partial_num_d[3:6])\n",
    "v03 = Matrix(partial_num_d[6:9])\n",
    "v04 = Matrix(partial_num_d[9:12])\n",
    "v01, v02, v03, v04"
   ]
  },
  {
   "cell_type": "markdown",
   "metadata": {},
   "source": [
    "So we have followinf 4 equations :\n",
    "D*w1 = v1 , D*w2 = v2 , D*w3 = v3 , D*w4 = v4 \n",
    "where D is our decryption key matrix\n",
    "D * [w1 w2 w3] = [v1 v2 v3] \n",
    "D = [v1 v2 v3]*(inv of [w1 w2 w3])\n",
    "so below this code i have find the inverse of matrix A i.e [w1 w2 w3]"
   ]
  },
  {
   "cell_type": "code",
   "execution_count": 156,
   "metadata": {},
   "outputs": [
    {
     "name": "stdout",
     "output_type": "stream",
     "text": [
      "[194, 115, 245]\n",
      "[18, 15, 19]\n",
      "[243, 144, 309]\n",
      "\n",
      "[[ 1.08762887 -0.14604811 -0.85337915]\n",
      " [-0.54123711  0.23539519  0.41466208]\n",
      " [-0.60309278  0.00515464  0.48109966]]\n"
     ]
    }
   ],
   "source": [
    "import numpy as np\n",
    " \n",
    "\n",
    "A = np.array([[194, 18, 243],\n",
    "              [115, 15, 144],\n",
    "              [245, 19, 309]])\n",
    "\n",
    "def transpose_matrix(A):\n",
    "    return [[A[j][i] for j in range(len(A))] for i in range(len(A[0]))]\n",
    "\n",
    "transposed_matrix = transpose_matrix(A)\n",
    "\n",
    "for row in transposed_matrix:\n",
    "    print(row)\n",
    "\n",
    "print()\n",
    "B = np.linalg.inv(transposed_matrix)\n",
    "\n",
    "print(B)"
   ]
  },
  {
   "cell_type": "markdown",
   "metadata": {},
   "source": [
    "after finding inverse , now we have to multiply that matrix B with [v1 v2 v3] i.e matrix C"
   ]
  },
  {
   "cell_type": "code",
   "execution_count": 161,
   "metadata": {},
   "outputs": [
    {
     "name": "stdout",
     "output_type": "stream",
     "text": [
      "[-2.9999999999999867, 1.0000000000000009, 2.3333333333333224]\n",
      "[2.9999999999999822, -7.355227538141662e-16, -2.3333333333333206]\n",
      "[0.9999999999999982, -1.0000000000000004, -0.6666666666666661]\n"
     ]
    }
   ],
   "source": [
    "C = ([[3, 6, 5],\n",
    "      [15, 9, 14],\n",
    "      [14, 4, 20]])\n",
    "\n",
    "Q = [[0, 0, 0],\n",
    "     [0, 0, 0],\n",
    "     [0, 0, 0]]\n",
    "\n",
    "for i in range(len(A)):\n",
    "    for j in range(len(B[0])):\n",
    "        for k in range(len(B)):\n",
    "            Q[i][j] += C[i][k] * B[k][j]\n",
    "\n",
    "for row in Q:\n",
    "    print(row)"
   ]
  },
  {
   "cell_type": "markdown",
   "metadata": {},
   "source": [
    "after multiplication we have to do modulo with 27 to get accuracte answer  "
   ]
  },
  {
   "cell_type": "code",
   "execution_count": 143,
   "metadata": {},
   "outputs": [
    {
     "name": "stdout",
     "output_type": "stream",
     "text": [
      "[[24.000000000000014, 1.0000000000000009, 2.3333333333333224], [2.9999999999999822, 27.0, 24.66666666666668], [0.9999999999999982, 26.0, 26.333333333333336]]\n"
     ]
    }
   ],
   "source": [
    "fkey = [[elem % 27 for elem in row] for row in Q]\n",
    "print(fkey)"
   ]
  },
  {
   "cell_type": "markdown",
   "metadata": {},
   "source": [
    "Now as we got the decryption key , we have to find what the sentence that numbers that are generated by my studentid gives us \n",
    "so we multiply all the numbers with the decryption key in 3x1 vector manner and then combine all that vector in one sequence using \"np.vstack\" function"
   ]
  },
  {
   "cell_type": "code",
   "execution_count": 162,
   "metadata": {},
   "outputs": [
    {
     "name": "stdout",
     "output_type": "stream",
     "text": [
      "[[ 5241.  7062.  7061.  3111.  4302.  4297.  6620.  8870.  8876.  4113.\n",
      "   5536.  5547.  4050.  5585.  5567.  2241.  2947.  2952.  1139.  1593.\n",
      "   1594.  6445.  8775.  8790.  4785.  6635.  6620.  2849.  4023.  4024.\n",
      "   7957. 10719. 10742.  3218.  4266.  4278.  6360.  8875.  8861.   135.\n",
      "    190.   189.  5271.  7227.  7218.  3596.  4982.  4972.]]\n"
     ]
    }
   ],
   "source": [
    "\n",
    "decryption_key = [[24.000000000000014, 1.0000000000000009, 2.3333333333333224], \n",
    "      [2.9999999999999822, 27.0, 24.66666666666668], \n",
    "      [0.9999999999999982, 26.0, 26.333333333333336]]\n",
    "\n",
    "vectors = [\n",
    "    np.array([[194], [18], [243]]),\n",
    "    np.array([[115], [15], [144]]),\n",
    "    np.array([[245], [19], [309]]),\n",
    "    np.array([[152], [10], [195]]),\n",
    "    np.array([[150], [23], [183]]),\n",
    "    np.array([[83], [4], [105]]),\n",
    "    np.array([[42], [5], [54]]),\n",
    "    np.array([[238], [19], [306]]),\n",
    "    np.array([[177], [26], [219]]),\n",
    "    np.array([[105], [14], [135]]),\n",
    "    np.array([[294], [19], [378]]),\n",
    "    np.array([[119], [5], [153]]),\n",
    "    np.array([[235], [34], [294]]),\n",
    "    np.array([[5], [1], [6]]),\n",
    "    np.array([[195], [24], [243]]),\n",
    "    np.array([[133], [19], [165]])\n",
    "]\n",
    "\n",
    "results = []\n",
    "\n",
    "for v in vectors:\n",
    "    result = np.dot(decryption_key, v)\n",
    "    results.append(result)\n",
    "\n",
    "all_results = np.vstack(results)\n",
    "\n",
    "arr = np.array(all_results)\n",
    "output_sequence = arr.reshape(1, -1)\n",
    "\n",
    "print(output_sequence)\n"
   ]
  },
  {
   "cell_type": "markdown",
   "metadata": {},
   "source": [
    "now lets represnts this output in proper form so that we can convert this sequence in sentance that we want"
   ]
  },
  {
   "cell_type": "code",
   "execution_count": 152,
   "metadata": {},
   "outputs": [],
   "source": [
    "S = [ 5241,  7062,  7061,  3111,  4302,  4297,  6620,  8870,  8876,  4113,  5536,  5547,  4050,  5585,  5567,  2241,  2947,  2952,  1139,  1593, 1594,  6445,  8775,  8790,  4785,  6635,  6620,  2849,  4023,  4024,  7957, 10719, 10742,  3218,  4266,  4278,  6360,  8875,  8861,   135,  190,   189,  5271,  7227,  7218,  3596,  4982, 4972]\n"
   ]
  },
  {
   "cell_type": "markdown",
   "metadata": {},
   "source": [
    "now as we have our final sequence but as we know alphabets are assigned from 1-26 i.e. A=0,B=1,C=3 and so no upto Z=26 and sapce = 0\n",
    "so we have to modolo this sequence with 27 "
   ]
  },
  {
   "cell_type": "code",
   "execution_count": 153,
   "metadata": {},
   "outputs": [
    {
     "name": "stdout",
     "output_type": "stream",
     "text": [
      "[3, 15, 14, 6, 9, 4, 5, 14, 20, 9, 1, 12, 0, 23, 5, 0, 4, 9, 5, 0, 1, 19, 0, 15, 6, 20, 5, 14, 0, 1, 19, 0, 23, 5, 0, 12, 15, 19, 5, 0, 1, 0, 6, 18, 9, 5, 14, 4]\n"
     ]
    }
   ],
   "source": [
    "Final_codeword = [elem % 27 for elem in S]\n",
    "\n",
    "print(Final_codeword)"
   ]
  },
  {
   "cell_type": "markdown",
   "metadata": {},
   "source": [
    "now as we got all the numbers of sequence between 0 to 27 now lets call num2char function to convert this sequence in our final sentance "
   ]
  },
  {
   "cell_type": "code",
   "execution_count": 154,
   "metadata": {},
   "outputs": [
    {
     "name": "stdout",
     "output_type": "stream",
     "text": [
      "   3  15  14   6   9   4   5  14  20   9   1  12   0  23   5   0   4   9   5   0\n",
      "   C   O   N   F   I   D   E   N   T   I   A   L   _   W   E   _   D   I   E   _\n",
      "\n",
      "   1  19   0  15   6  20   5  14   0   1  19   0  23   5   0  12  15  19   5   0\n",
      "   A   S   _   O   F   T   E   N   _   A   S   _   W   E   _   L   O   S   E   _\n",
      "\n",
      "   1   0   6  18   9   5  14   4\n",
      "   A   _   F   R   I   E   N   D\n",
      "\n"
     ]
    }
   ],
   "source": [
    "num2char(Final_codeword)"
   ]
  },
  {
   "cell_type": "markdown",
   "metadata": {},
   "source": [
    "ans its done our final qoute is \n",
    "\n",
    "My answer = CONFIDENTIAL WE DIE AS OFEN AS WE LOSE A FRIEND "
   ]
  }
 ],
 "metadata": {
  "kernelspec": {
   "display_name": "base",
   "language": "python",
   "name": "python3"
  },
  "language_info": {
   "codemirror_mode": {
    "name": "ipython",
    "version": 3
   },
   "file_extension": ".py",
   "mimetype": "text/x-python",
   "name": "python",
   "nbconvert_exporter": "python",
   "pygments_lexer": "ipython3",
   "version": "3.11.5"
  }
 },
 "nbformat": 4,
 "nbformat_minor": 2
}
